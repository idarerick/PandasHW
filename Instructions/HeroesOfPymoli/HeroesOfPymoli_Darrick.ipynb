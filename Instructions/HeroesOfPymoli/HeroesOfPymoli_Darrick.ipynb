{
 "cells": [
  {
   "cell_type": "code",
   "execution_count": 71,
   "metadata": {},
   "outputs": [],
   "source": [
    "# Dependencies and Setup\n",
    "import pandas as pd\n",
    "import numpy as np"
   ]
  },
  {
   "cell_type": "code",
   "execution_count": 72,
   "metadata": {},
   "outputs": [],
   "source": [
    "#Raw data file\n",
    "csvfile = \"Resources/purchase_data.csv\""
   ]
  },
  {
   "cell_type": "code",
   "execution_count": 73,
   "metadata": {},
   "outputs": [],
   "source": [
    "#Read purchase data csv file and store into pandas data frame\n",
    "purchase_df = pd.read_csv(csvfile)"
   ]
  },
  {
   "cell_type": "code",
   "execution_count": 74,
   "metadata": {},
   "outputs": [
    {
     "data": {
      "text/html": [
       "<div>\n",
       "<style scoped>\n",
       "    .dataframe tbody tr th:only-of-type {\n",
       "        vertical-align: middle;\n",
       "    }\n",
       "\n",
       "    .dataframe tbody tr th {\n",
       "        vertical-align: top;\n",
       "    }\n",
       "\n",
       "    .dataframe thead th {\n",
       "        text-align: right;\n",
       "    }\n",
       "</style>\n",
       "<table border=\"1\" class=\"dataframe\">\n",
       "  <thead>\n",
       "    <tr style=\"text-align: right;\">\n",
       "      <th></th>\n",
       "      <th>Total Players</th>\n",
       "    </tr>\n",
       "  </thead>\n",
       "  <tbody>\n",
       "    <tr>\n",
       "      <th>0</th>\n",
       "      <td>576</td>\n",
       "    </tr>\n",
       "  </tbody>\n",
       "</table>\n",
       "</div>"
      ],
      "text/plain": [
       "   Total Players\n",
       "0            576"
      ]
     },
     "execution_count": 74,
     "metadata": {},
     "output_type": "execute_result"
    }
   ],
   "source": [
    "#Count total number of players (assuming one SN per player)\n",
    "#there should be only one player per SN\n",
    "#nunique = purchase_df.groupby('SN')['Purchase ID'].nunique()\n",
    "##SNcounts = purchase_df[\"SN\"].value_counts()\n",
    "##totalplayers = SNcounts.count()\n",
    "player_count = len(purchase_df[\"SN\"].unique())\n",
    "player_count_summary_df = pd.DataFrame({\"Total Players\": [player_count]})\n",
    "player_count_summary_df"
   ]
  },
  {
   "cell_type": "code",
   "execution_count": 75,
   "metadata": {},
   "outputs": [],
   "source": [
    "#count number of unique items\n",
    "uniqueitems = len(purchase_df[\"Item ID\"].value_counts())"
   ]
  },
  {
   "cell_type": "code",
   "execution_count": 76,
   "metadata": {
    "scrolled": true
   },
   "outputs": [],
   "source": [
    "#average price\n",
    "avg_price = purchase_df[\"Price\"].mean()\n",
    "#convert to float\n",
    "#avg_price = avg_price.map(\"${:.2f}\".format)"
   ]
  },
  {
   "cell_type": "code",
   "execution_count": 77,
   "metadata": {},
   "outputs": [],
   "source": [
    "#number of purchases\n",
    "purchase_number = purchase_df[\"Purchase ID\"].count()"
   ]
  },
  {
   "cell_type": "code",
   "execution_count": 78,
   "metadata": {},
   "outputs": [],
   "source": [
    "#no need to change to float\n",
    "#total revenue\n",
    "total_rev = purchase_df[\"Price\"].sum()"
   ]
  },
  {
   "cell_type": "code",
   "execution_count": 79,
   "metadata": {},
   "outputs": [
    {
     "data": {
      "text/html": [
       "<div>\n",
       "<style scoped>\n",
       "    .dataframe tbody tr th:only-of-type {\n",
       "        vertical-align: middle;\n",
       "    }\n",
       "\n",
       "    .dataframe tbody tr th {\n",
       "        vertical-align: top;\n",
       "    }\n",
       "\n",
       "    .dataframe thead th {\n",
       "        text-align: right;\n",
       "    }\n",
       "</style>\n",
       "<table border=\"1\" class=\"dataframe\">\n",
       "  <thead>\n",
       "    <tr style=\"text-align: right;\">\n",
       "      <th></th>\n",
       "      <th>Number of Unique Items</th>\n",
       "      <th>Average Price (in dollars)</th>\n",
       "      <th>Number of Purchases</th>\n",
       "      <th>Total Revenue (in dollars)</th>\n",
       "    </tr>\n",
       "  </thead>\n",
       "  <tbody>\n",
       "    <tr>\n",
       "      <th>0</th>\n",
       "      <td>183</td>\n",
       "      <td>$3.050987179487176</td>\n",
       "      <td>780</td>\n",
       "      <td>$2379.77</td>\n",
       "    </tr>\n",
       "  </tbody>\n",
       "</table>\n",
       "</div>"
      ],
      "text/plain": [
       "   Number of Unique Items Average Price (in dollars)  Number of Purchases  \\\n",
       "0                     183         $3.050987179487176                  780   \n",
       "\n",
       "  Total Revenue (in dollars)  \n",
       "0                   $2379.77  "
      ]
     },
     "execution_count": 79,
     "metadata": {},
     "output_type": "execute_result"
    }
   ],
   "source": [
    "#Summary Data Frame\n",
    "uniqueitems_summary_df = pd.DataFrame({\"Number of Unique Items\": [uniqueitems],\n",
    "                          \"Average Price (in dollars)\": \"$\" + str(avg_price),\n",
    "                          \"Number of Purchases\": [purchase_number],\n",
    "                          \"Total Revenue (in dollars)\": \"$\" + str(total_rev)})\n",
    "uniqueitems_summary_df"
   ]
  },
  {
   "cell_type": "code",
   "execution_count": 80,
   "metadata": {},
   "outputs": [
    {
     "data": {
      "text/plain": [
       "Male                     652\n",
       "Female                   113\n",
       "Other / Non-Disclosed     15\n",
       "Name: Gender, dtype: int64"
      ]
     },
     "execution_count": 80,
     "metadata": {},
     "output_type": "execute_result"
    }
   ],
   "source": [
    "#check values of gender\n",
    "purchase_df[\"Gender\"].value_counts()"
   ]
  },
  {
   "cell_type": "code",
   "execution_count": 81,
   "metadata": {},
   "outputs": [],
   "source": [
    "#set index\n",
    "id_index = purchase_df.set_index(\"Gender\")\n",
    "#print for verification\n",
    "#id_index.head()"
   ]
  },
  {
   "cell_type": "code",
   "execution_count": 82,
   "metadata": {},
   "outputs": [],
   "source": [
    "#find the count and percentage of males using loc\n",
    "male_count = len(id_index.loc[\"Male\", \"SN\"].unique())\n",
    "#male_count\n",
    "male_percent = round((male_count/player_count*100),2)\n",
    "#malepercent\n",
    "\n",
    "#this route is needed to produce the output in the starter file\n",
    "malepurchasecount = id_index.loc[\"Male\", \"Purchase ID\"].count()\n",
    "#malepurchasecout\n",
    "malepurchasepercent = (malepurchasecount/player_count*100)\n",
    "#malepurchasepercent"
   ]
  },
  {
   "cell_type": "code",
   "execution_count": 83,
   "metadata": {},
   "outputs": [],
   "source": [
    "#find the count and percentage of females using loc\n",
    "female_count = len(id_index.loc[\"Female\", \"SN\"].unique())\n",
    "#female_count\n",
    "female_percent = round((female_count/player_count*100),2)\n",
    "#femalepercent\n",
    "\n",
    "#this route is needed to produce the output in the starter file\n",
    "femalepurchasecount = id_index.loc[\"Female\", \"Purchase ID\"].count()\n",
    "#femalepurchasecout\n",
    "femalepurchasepercent = (femalepurchasecount/player_count*100)\n",
    "#femalepurchasepercent"
   ]
  },
  {
   "cell_type": "code",
   "execution_count": 84,
   "metadata": {},
   "outputs": [],
   "source": [
    "#find the count and percentage of other/non-disclosed using loc\n",
    "other_count = len(id_index.loc[\"Other / Non-Disclosed\", \"SN\"].unique())\n",
    "#other_count\n",
    "other_percent = round((other_count/player_count*100),2)\n",
    "#otherpercent\n",
    "\n",
    "#this route is needed to produce the output in the starter file\n",
    "otherpurchasecount = id_index.loc[\"Other / Non-Disclosed\", \"Purchase ID\"].count()\n",
    "#otherpurchasecout\n",
    "otherpurchasepercent = (otherpurchasecount/player_count*100)\n",
    "#otherpurchasepercent"
   ]
  },
  {
   "cell_type": "code",
   "execution_count": 85,
   "metadata": {},
   "outputs": [
    {
     "data": {
      "text/html": [
       "<div>\n",
       "<style scoped>\n",
       "    .dataframe tbody tr th:only-of-type {\n",
       "        vertical-align: middle;\n",
       "    }\n",
       "\n",
       "    .dataframe tbody tr th {\n",
       "        vertical-align: top;\n",
       "    }\n",
       "\n",
       "    .dataframe thead th {\n",
       "        text-align: right;\n",
       "    }\n",
       "</style>\n",
       "<table border=\"1\" class=\"dataframe\">\n",
       "  <thead>\n",
       "    <tr style=\"text-align: right;\">\n",
       "      <th></th>\n",
       "      <th>Percentage of Players</th>\n",
       "      <th>Total Count</th>\n",
       "    </tr>\n",
       "  </thead>\n",
       "  <tbody>\n",
       "    <tr>\n",
       "      <th>0</th>\n",
       "      <td>84.03</td>\n",
       "      <td>484</td>\n",
       "    </tr>\n",
       "    <tr>\n",
       "      <th>1</th>\n",
       "      <td>14.06</td>\n",
       "      <td>81</td>\n",
       "    </tr>\n",
       "    <tr>\n",
       "      <th>2</th>\n",
       "      <td>1.91</td>\n",
       "      <td>11</td>\n",
       "    </tr>\n",
       "  </tbody>\n",
       "</table>\n",
       "</div>"
      ],
      "text/plain": [
       "   Percentage of Players  Total Count\n",
       "0                  84.03          484\n",
       "1                  14.06           81\n",
       "2                   1.91           11"
      ]
     },
     "execution_count": 85,
     "metadata": {},
     "output_type": "execute_result"
    }
   ],
   "source": [
    "#note on gender demographics: this result is based off of the count of players, \n",
    "#not the count of purchases (this is different from the output of the starter file)\n",
    "gendersummary_df = pd.DataFrame({\"Percentage of Players\":[male_percent,female_percent,other_percent],\n",
    "                                \"Total Count\":[male_count,female_count,other_count]})\n",
    "\n",
    "#this is the output based on the starter file\n",
    "genderpurchasesummary_df = pd.DataFrame({\"Percentage of Players\":[malepurchasepercent,femalepurchasepercent,otherpurchasepercent],\n",
    "                                \"Total Count\":[malepurchasecount,femalepurchasecount,otherpurchasecount]})\n",
    "#genderpurchasesummary_df\n",
    "gendersummary_df"
   ]
  },
  {
   "cell_type": "code",
   "execution_count": null,
   "metadata": {},
   "outputs": [],
   "source": []
  }
 ],
 "metadata": {
  "kernelspec": {
   "display_name": "Python 3",
   "language": "python",
   "name": "python3"
  },
  "language_info": {
   "codemirror_mode": {
    "name": "ipython",
    "version": 3
   },
   "file_extension": ".py",
   "mimetype": "text/x-python",
   "name": "python",
   "nbconvert_exporter": "python",
   "pygments_lexer": "ipython3",
   "version": "3.6.5"
  }
 },
 "nbformat": 4,
 "nbformat_minor": 2
}
